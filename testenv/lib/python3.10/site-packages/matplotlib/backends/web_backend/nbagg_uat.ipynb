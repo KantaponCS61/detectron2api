version https://git-lfs.github.com/spec/v1
oid sha256:021808d50ce4d65f3f3460a3b235ae982dad23b592795c92dde446216287ccf3
size 16431
